{
 "cells": [
  {
   "cell_type": "code",
   "execution_count": 34,
   "metadata": {},
   "outputs": [],
   "source": [
    "import re\n",
    "from time import sleep\n",
    "from requests_cache import CachedSession\n",
    "from bs4 import BeautifulSoup\n",
    "from urllib.parse import urljoin\n",
    "import pandas as pd\n",
    "from retry import retry\n",
    "from tqdm import tqdm"
   ]
  },
  {
   "cell_type": "code",
   "execution_count": 11,
   "metadata": {},
   "outputs": [],
   "source": [
    "# res = session.get(\"https://job.rikunabi.com/2024/search/pre/company/result/?fw=&isc=r21rcna00257&toplink=search\")\n",
    "top_url = \"https://job.rikunabi.com/\""
   ]
  },
  {
   "cell_type": "code",
   "execution_count": 10,
   "metadata": {},
   "outputs": [
    {
     "name": "stdout",
     "output_type": "stream",
     "text": [
      "x:\\python\\scriping\\152_cache.sqlite\n"
     ]
    }
   ],
   "source": [
    "session = CachedSession(\"152_cache\", backend=\"sqlite\")\n",
    "print(session.cache.db_path)"
   ]
  },
  {
   "cell_type": "code",
   "execution_count": 37,
   "metadata": {},
   "outputs": [],
   "source": [
    "search_url = []\n",
    "for i in range(1,204):\n",
    "    search_url.append(f\"https://job.rikunabi.com/2024/search/pre/company/result/?ms=0&kk=0&isc=ps054&pn={i}\")"
   ]
  },
  {
   "cell_type": "code",
   "execution_count": 39,
   "metadata": {},
   "outputs": [],
   "source": [
    "links = []\n",
    "for url in search_url[:3]:\n",
    "    res = session.get(url)\n",
    "    soup = BeautifulSoup(res.content, \"lxml\")\n",
    "    links.append(soup.select(\".js-p-clickableCassetteList-item-link\"))"
   ]
  },
  {
   "cell_type": "code",
   "execution_count": 45,
   "metadata": {},
   "outputs": [
    {
     "data": {
      "text/plain": [
       "[<a class=\"js-p-clickableCassetteList-item-link\" href=\"/2024/company/r345372064/\" target=\"_blank\">アニマート株式会社</a>,\n",
       " <a class=\"js-p-clickableCassetteList-item-link\" href=\"/2024/company/r845100090/\" target=\"_blank\">株式会社共立合金製作所</a>]"
      ]
     },
     "execution_count": 45,
     "metadata": {},
     "output_type": "execute_result"
    }
   ],
   "source": [
    "links[0][:2]"
   ]
  },
  {
   "cell_type": "code",
   "execution_count": 15,
   "metadata": {},
   "outputs": [],
   "source": [
    "# soup = BeautifulSoup(res.content, \"lxml\") "
   ]
  },
  {
   "cell_type": "code",
   "execution_count": 16,
   "metadata": {},
   "outputs": [],
   "source": [
    "# links = soup.select(\".js-p-clickableCassetteList-item-link\")"
   ]
  },
  {
   "cell_type": "code",
   "execution_count": 50,
   "metadata": {},
   "outputs": [
    {
     "data": {
      "text/plain": [
       "300"
      ]
     },
     "execution_count": 50,
     "metadata": {},
     "output_type": "execute_result"
    }
   ],
   "source": [
    "urls = []\n",
    "for blocks in links:\n",
    "    urlssss = [urljoin(top_url,link.get(\"href\")) for link in blocks]\n",
    "    for url in urlssss:\n",
    "        urls.append(url)\n",
    "len(urls)"
   ]
  },
  {
   "cell_type": "code",
   "execution_count": 49,
   "metadata": {},
   "outputs": [
    {
     "data": {
      "text/plain": [
       "3"
      ]
     },
     "execution_count": 49,
     "metadata": {},
     "output_type": "execute_result"
    }
   ],
   "source": [
    "len(urls)"
   ]
  },
  {
   "cell_type": "code",
   "execution_count": 18,
   "metadata": {},
   "outputs": [],
   "source": [
    "# res5 = session.get(urls[5])\n",
    "# soup5 = BeautifulSoup(res5.content, \"lxml\")\n",
    "# df = pd.read_html(res5.content)[1]"
   ]
  },
  {
   "cell_type": "code",
   "execution_count": null,
   "metadata": {},
   "outputs": [],
   "source": [
    "column_set = set()\n",
    "\n",
    "@retry(tries=3, delay=2)\n",
    "def get_res(url):\n",
    "    res = session.get(url)\n",
    "    if res.status_code != 200:\n",
    "        print(\"error retry...\")\n",
    "        raise Exception\n",
    "    else:\n",
    "        return res\n",
    "for url in tqdm(urls):\n",
    "    print(url)\n",
    "    res = get_res(url)\n",
    "    sleep(1)\n",
    "    continue\n",
    "    df = pd.read_html(res.content)[1]\n",
    "    for i,x in enumerate(df[1]):\n",
    "        pattern = re.compile(\"(...??[都道府県])((?:旭川|伊達|石狩|盛岡|奥州|田村|南相馬|那須塩原|東村山|武蔵村山|羽村|十日町|上越|富山|野々市|大町|蒲郡|四日市|姫路|大和郡山|廿日市|下松|岩国|田川|大村)市|.+?郡(?:玉村|大町|.+?)[町村]|.+?市.+?区|.+?[市区町村])(.+)\")\n",
    "        if s:= pattern.findall(x):\n",
    "            for n in s:\n",
    "                print(df.iloc[i,0])\n",
    "                print(n)\n",
    "                print(\"\\n\")\n",
    "                column_set.add(df.iloc[i,0])\n",
    "        else:\n",
    "            pass"
   ]
  },
  {
   "cell_type": "code",
   "execution_count": null,
   "metadata": {},
   "outputs": [],
   "source": [
    "column_set"
   ]
  },
  {
   "cell_type": "code",
   "execution_count": 7,
   "metadata": {},
   "outputs": [],
   "source": [
    "# for i in range(5):\n",
    "    # response = session.get('http://httpbin.org/delay/2')\n",
    "response = session.get('http://httpbin.org/delay/2')"
   ]
  },
  {
   "cell_type": "code",
   "execution_count": 26,
   "metadata": {},
   "outputs": [
    {
     "name": "stdout",
     "output_type": "stream",
     "text": [
      "16\n"
     ]
    }
   ],
   "source": [
    "for i,url in enumerate(urls):\n",
    "    if \"https://job.rikunabi.com/2024/company/r867352080/\" in url:\n",
    "        print(i)"
   ]
  },
  {
   "cell_type": "code",
   "execution_count": null,
   "metadata": {},
   "outputs": [],
   "source": [
    "urls[10:]"
   ]
  },
  {
   "cell_type": "code",
   "execution_count": null,
   "metadata": {},
   "outputs": [],
   "source": []
  }
 ],
 "metadata": {
  "kernelspec": {
   "display_name": "Python 3",
   "language": "python",
   "name": "python3"
  },
  "language_info": {
   "codemirror_mode": {
    "name": "ipython",
    "version": 3
   },
   "file_extension": ".py",
   "mimetype": "text/x-python",
   "name": "python",
   "nbconvert_exporter": "python",
   "pygments_lexer": "ipython3",
   "version": "3.8.7"
  },
  "orig_nbformat": 4,
  "vscode": {
   "interpreter": {
    "hash": "9f0c07f233c9fa4c5b7b6dc7c1d99c0c617bce55c9a22566408c30b7d3d16372"
   }
  }
 },
 "nbformat": 4,
 "nbformat_minor": 2
}
