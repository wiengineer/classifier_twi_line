{
 "cells": [
  {
   "cell_type": "code",
   "execution_count": 66,
   "metadata": {},
   "outputs": [],
   "source": [
    "import os\n",
    "import cv2\n",
    "import numpy as np\n",
    "from glob import glob\n",
    "from sklearn.model_selection import train_test_split\n",
    "from keras.utils import np_utils\n",
    "from keras.applications.vgg16 import VGG16\n",
    "from keras.models import Sequential\n",
    "from keras.models import model_from_json\n",
    "from keras.models import Model\n",
    "from keras.layers import Input, Activation, merging, Dense, Flatten, Dropout\n",
    "from tensorflow.keras.optimizers import Adam\n",
    "from PIL import Image"
   ]
  },
  {
   "cell_type": "code",
   "execution_count": 41,
   "metadata": {},
   "outputs": [
    {
     "name": "stdout",
     "output_type": "stream",
     "text": [
      "['facebook', 'line', 'tiktok', 'twitter', 'twitter_t']\n",
      "n_classes = 5\n",
      "answer = {'0': 'facebook', '1': 'line', '2': 'tiktk', '3': 'twitter', '4': 'twitter_t'}\n"
     ]
    }
   ],
   "source": [
    "#フォルダ名をクラス名にする フォルダ番号が答え\n",
    "path = \"./sns/train\"\n",
    "folders = os.listdir(path)\n",
    "classes = [f for f in folders if os.path.isdir(os.path.join(path, f))]\n",
    "n_classes = len(classes)\n",
    "answer = {\"0\":\"facebook\", \"1\":\"insta\",\"2\":\"line\", \"3\":\"tiktk\",\"4\":\"twitter\",\"5\":\"twitter_t\"}\n",
    "print(classes)\n",
    "print(\"n_classes =\", n_classes)\n",
    "print(f\"{answer = }\")"
   ]
  },
  {
   "cell_type": "code",
   "execution_count": 44,
   "metadata": {},
   "outputs": [
    {
     "name": "stdout",
     "output_type": "stream",
     "text": [
      "195\n",
      "195\n",
      "(224, 224, 3)\n"
     ]
    }
   ],
   "source": [
    "#訓練データ作成。画像の読み込みとグレースケール化。フォルダ番号が答え\n",
    "X =[]\n",
    "y=[]\n",
    "for label, class_name in enumerate(classes):\n",
    "    files= glob(\"./sns/train/\" + class_name+\"/*.*\")\n",
    "    for file in files:\n",
    "        img = Image.open(file)\n",
    "        img = img.convert(\"L\").convert(\"RGB\")\n",
    "        img = img.resize((224,224))\n",
    "        img =  np.asarray(img, np.uint8)\n",
    "        X.append(img)\n",
    "        y.append(label)\n",
    "print(len(X))\n",
    "print(len(y))\n",
    "print(X[0].shape)\n",
    "#ndarray化\n",
    "X_ = np.array(X)\n",
    "X_ = X_.astype(\"float32\")\n",
    "X_train = X_/255.0 #正規化\n",
    "y_ = np.array(y)\n",
    "y_train = np_utils.to_categorical(y_,n_classes)"
   ]
  },
  {
   "cell_type": "code",
   "execution_count": 45,
   "metadata": {},
   "outputs": [
    {
     "name": "stdout",
     "output_type": "stream",
     "text": [
      "147\n",
      "147\n",
      "(224, 224, 3)\n"
     ]
    }
   ],
   "source": [
    "#testデータ作成　画像の読み込みとグレースケール化\n",
    "X1 =[]\n",
    "y1=[]\n",
    "for label, class_name in enumerate(classes):\n",
    "    files= glob(\"./sns/validation/\" + class_name+\"/*.*\")\n",
    "    for file in files:\n",
    "        img = Image.open(file)\n",
    "        img = img.convert(\"L\").convert(\"RGB\")\n",
    "        img = img.resize((224,224))\n",
    "        img = np.asarray(img, np.uint8)\n",
    "        X1.append(img)\n",
    "        y1.append(label)\n",
    "print(len(X1))\n",
    "print(len(y1))\n",
    "print(X1[0].shape)\n",
    "X_test_ = np.array(X1)\n",
    "X_test_ = X_test_.astype(\"float32\")\n",
    "X_test = X_test_/255.0\n",
    "y_test_ = np.array(y1)\n",
    "y_test = np_utils.to_categorical(y_test_,n_classes)\n",
    "print(len(X_test))\n",
    "print(len(y_test))\n",
    "X_test[0].shape"
   ]
  },
  {
   "cell_type": "code",
   "execution_count": 47,
   "metadata": {},
   "outputs": [
    {
     "name": "stdout",
     "output_type": "stream",
     "text": [
      "(195, 224, 224, 3)\n",
      "(195, 5)\n",
      "(147, 224, 224, 3)\n",
      "(147, 5)\n"
     ]
    }
   ],
   "source": [
    "# X_train, X_test, y_train, y_test = train_test_split(X, y, test_size=0.2)\n",
    "print(X_train.shape)\n",
    "print(y_train.shape)\n",
    "print(X_test.shape)\n",
    "print(y_test.shape)"
   ]
  },
  {
   "cell_type": "code",
   "execution_count": 48,
   "metadata": {},
   "outputs": [],
   "source": [
    "#vgg16\n",
    "input_tensor = Input(shape=(224,224,3))\n",
    "base_model = VGG16(weights=\"imagenet\", input_tensor=input_tensor, include_top=False)"
   ]
  },
  {
   "cell_type": "code",
   "execution_count": 49,
   "metadata": {},
   "outputs": [],
   "source": [
    "#後付\n",
    "top_model = Sequential()\n",
    "top_model.add(Flatten(input_shape=base_model.output_shape[1:]))\n",
    "top_model.add(Dense(n_classes, activation=\"softmax\"))"
   ]
  },
  {
   "cell_type": "code",
   "execution_count": 50,
   "metadata": {},
   "outputs": [],
   "source": [
    "#層結合\n",
    "model = Model(inputs=base_model.input, outputs=top_model(base_model.output))"
   ]
  },
  {
   "cell_type": "code",
   "execution_count": 52,
   "metadata": {},
   "outputs": [
    {
     "name": "stdout",
     "output_type": "stream",
     "text": [
      "# layers =  20\n"
     ]
    }
   ],
   "source": [
    "#学習させない層　15層まで学習トレーニングしない\n",
    "print('# layers = ', len(model.layers))\n",
    "for layer in model.layers[:15]:\n",
    "    layer.trainable = False"
   ]
  },
  {
   "cell_type": "code",
   "execution_count": 53,
   "metadata": {},
   "outputs": [
    {
     "name": "stdout",
     "output_type": "stream",
     "text": [
      "Model: \"model_1\"\n",
      "_________________________________________________________________\n",
      " Layer (type)                Output Shape              Param #   \n",
      "=================================================================\n",
      " input_2 (InputLayer)        [(None, 224, 224, 3)]     0         \n",
      "                                                                 \n",
      " block1_conv1 (Conv2D)       (None, 224, 224, 64)      1792      \n",
      "                                                                 \n",
      " block1_conv2 (Conv2D)       (None, 224, 224, 64)      36928     \n",
      "                                                                 \n",
      " block1_pool (MaxPooling2D)  (None, 112, 112, 64)      0         \n",
      "                                                                 \n",
      " block2_conv1 (Conv2D)       (None, 112, 112, 128)     73856     \n",
      "                                                                 \n",
      " block2_conv2 (Conv2D)       (None, 112, 112, 128)     147584    \n",
      "                                                                 \n",
      " block2_pool (MaxPooling2D)  (None, 56, 56, 128)       0         \n",
      "                                                                 \n",
      " block3_conv1 (Conv2D)       (None, 56, 56, 256)       295168    \n",
      "                                                                 \n",
      " block3_conv2 (Conv2D)       (None, 56, 56, 256)       590080    \n",
      "                                                                 \n",
      " block3_conv3 (Conv2D)       (None, 56, 56, 256)       590080    \n",
      "                                                                 \n",
      " block3_pool (MaxPooling2D)  (None, 28, 28, 256)       0         \n",
      "                                                                 \n",
      " block4_conv1 (Conv2D)       (None, 28, 28, 512)       1180160   \n",
      "                                                                 \n",
      " block4_conv2 (Conv2D)       (None, 28, 28, 512)       2359808   \n",
      "                                                                 \n",
      " block4_conv3 (Conv2D)       (None, 28, 28, 512)       2359808   \n",
      "                                                                 \n",
      " block4_pool (MaxPooling2D)  (None, 14, 14, 512)       0         \n",
      "                                                                 \n",
      " block5_conv1 (Conv2D)       (None, 14, 14, 512)       2359808   \n",
      "                                                                 \n",
      " block5_conv2 (Conv2D)       (None, 14, 14, 512)       2359808   \n",
      "                                                                 \n",
      " block5_conv3 (Conv2D)       (None, 14, 14, 512)       2359808   \n",
      "                                                                 \n",
      " block5_pool (MaxPooling2D)  (None, 7, 7, 512)         0         \n",
      "                                                                 \n",
      " sequential_1 (Sequential)   (None, 5)                 125445    \n",
      "                                                                 \n",
      "=================================================================\n",
      "Total params: 14,840,133\n",
      "Trainable params: 7,204,869\n",
      "Non-trainable params: 7,635,264\n",
      "_________________________________________________________________\n"
     ]
    }
   ],
   "source": [
    "model.compile(loss=\"categorical_crossentropy\", optimizer=\"adam\", metrics=[\"accuracy\"])\n",
    "model.summary()"
   ]
  },
  {
   "cell_type": "code",
   "execution_count": 54,
   "metadata": {},
   "outputs": [
    {
     "name": "stdout",
     "output_type": "stream",
     "text": [
      "Epoch 1/20\n",
      "20/20 [==============================] - 60s 39ms/step - loss: 1.5648 - accuracy: 0.5385\n",
      "Epoch 2/20\n",
      "20/20 [==============================] - 1s 35ms/step - loss: 0.3486 - accuracy: 0.9282\n",
      "Epoch 3/20\n",
      "20/20 [==============================] - 1s 35ms/step - loss: 0.0212 - accuracy: 0.9949\n",
      "Epoch 4/20\n",
      "20/20 [==============================] - 1s 35ms/step - loss: 0.0231 - accuracy: 0.9949\n",
      "Epoch 5/20\n",
      "20/20 [==============================] - 1s 36ms/step - loss: 0.0025 - accuracy: 1.0000\n",
      "Epoch 6/20\n",
      "20/20 [==============================] - 1s 35ms/step - loss: 0.0039 - accuracy: 1.0000\n",
      "Epoch 7/20\n",
      "20/20 [==============================] - 1s 35ms/step - loss: 0.0024 - accuracy: 1.0000\n",
      "Epoch 8/20\n",
      "20/20 [==============================] - 1s 35ms/step - loss: 4.0755e-05 - accuracy: 1.0000\n",
      "Epoch 9/20\n",
      "20/20 [==============================] - 1s 34ms/step - loss: 1.1535 - accuracy: 0.8923\n",
      "Epoch 10/20\n",
      "20/20 [==============================] - 1s 36ms/step - loss: 1.6153 - accuracy: 0.9385\n",
      "Epoch 11/20\n",
      "20/20 [==============================] - 1s 35ms/step - loss: 0.5730 - accuracy: 0.9538\n",
      "Epoch 12/20\n",
      "20/20 [==============================] - 1s 38ms/step - loss: 6.6842e-05 - accuracy: 1.0000\n",
      "Epoch 13/20\n",
      "20/20 [==============================] - 1s 35ms/step - loss: 0.0000e+00 - accuracy: 1.0000\n",
      "Epoch 14/20\n",
      "20/20 [==============================] - 1s 35ms/step - loss: 0.0000e+00 - accuracy: 1.0000\n",
      "Epoch 15/20\n",
      "20/20 [==============================] - 1s 36ms/step - loss: 0.0000e+00 - accuracy: 1.0000\n",
      "Epoch 16/20\n",
      "20/20 [==============================] - 1s 35ms/step - loss: 0.0000e+00 - accuracy: 1.0000\n",
      "Epoch 17/20\n",
      "20/20 [==============================] - 1s 37ms/step - loss: 0.0000e+00 - accuracy: 1.0000\n",
      "Epoch 18/20\n",
      "20/20 [==============================] - 1s 35ms/step - loss: 0.0000e+00 - accuracy: 1.0000\n",
      "Epoch 19/20\n",
      "20/20 [==============================] - 1s 35ms/step - loss: 0.0000e+00 - accuracy: 1.0000\n",
      "Epoch 20/20\n",
      "20/20 [==============================] - 1s 38ms/step - loss: 0.0000e+00 - accuracy: 1.0000\n"
     ]
    },
    {
     "data": {
      "text/plain": [
       "<keras.callbacks.History at 0x246d48708e0>"
      ]
     },
     "execution_count": 54,
     "metadata": {},
     "output_type": "execute_result"
    }
   ],
   "source": [
    "model.fit(X_train, y_train, epochs=20, batch_size=10)"
   ]
  },
  {
   "cell_type": "code",
   "execution_count": 55,
   "metadata": {},
   "outputs": [
    {
     "name": "stdout",
     "output_type": "stream",
     "text": [
      "8/8 [==============================] - 1s 54ms/step - loss: 0.6280 - accuracy: 0.9864\n"
     ]
    }
   ],
   "source": [
    "score = model.evaluate(X_test, y_test, batch_size=20)"
   ]
  },
  {
   "cell_type": "code",
   "execution_count": 60,
   "metadata": {},
   "outputs": [
    {
     "data": {
      "text/plain": [
       "0.9863945841789246"
      ]
     },
     "execution_count": 60,
     "metadata": {},
     "output_type": "execute_result"
    }
   ],
   "source": [
    "score[1]"
   ]
  },
  {
   "cell_type": "code",
   "execution_count": null,
   "metadata": {},
   "outputs": [],
   "source": [
    "import pickle\n",
    "#クラス名の保存\n",
    "pickle.dump(classes, open(\"classes.sav\",\"wb\"))\n",
    "#モデルの保存\n",
    "model.save(\"./gray.h5\")"
   ]
  },
  {
   "cell_type": "code",
   "execution_count": null,
   "metadata": {},
   "outputs": [],
   "source": [
    "from keras.models import load_model\n",
    "import pickle\n",
    "import cv2"
   ]
  },
  {
   "cell_type": "code",
   "execution_count": null,
   "metadata": {},
   "outputs": [],
   "source": [
    "images = [image for image in glob(\"./sns/testyou/*.*\")]\n",
    "images[3]"
   ]
  },
  {
   "cell_type": "code",
   "execution_count": null,
   "metadata": {},
   "outputs": [],
   "source": [
    "import re"
   ]
  },
  {
   "cell_type": "code",
   "execution_count": null,
   "metadata": {},
   "outputs": [],
   "source": [
    "numbers = [re.search(r\"\\\\(.*)\",number).group(1) for number in images]\n",
    "numbers[33]"
   ]
  },
  {
   "cell_type": "code",
   "execution_count": null,
   "metadata": {},
   "outputs": [],
   "source": [
    "results = []\n",
    "numbers = []\n",
    "\n",
    "for image in images:\n",
    "    img = Image.open(image)\n",
    "    img = img.convert(\"L\").convert(\"RGB\")\n",
    "    img = img.resize((224,224))\n",
    "    img = np.asarray(img, np.uint8)\n",
    "    img = img.astype(\"float32\")\n",
    "    img /= 255.0\n",
    "    img = img[None, ...]\n",
    "    results.append(model.predict(img))\n",
    "    numbers.append(re.search(r\"u\\\\(.*.jpg)\",image).group(1))\n",
    "len(results)"
   ]
  },
  {
   "cell_type": "code",
   "execution_count": null,
   "metadata": {},
   "outputs": [],
   "source": [
    "#予測収納\n",
    "answers = []\n",
    "for result in results:\n",
    "    np.set_printoptions(precision=3, suppress=True)\n",
    "    a = result * 100\n",
    "    answers.append(a)\n",
    "len(answers)"
   ]
  },
  {
   "cell_type": "code",
   "execution_count": null,
   "metadata": {},
   "outputs": [],
   "source": [
    "for a,name in zip(answers, numbers):\n",
    "    k = a.argmax()\n",
    "    # print(name,k)\n",
    "    print(name, answer[str(k)])"
   ]
  },
  {
   "cell_type": "code",
   "execution_count": null,
   "metadata": {},
   "outputs": [],
   "source": [
    "#1枚テスト\n",
    "img = cv2.imread(\"./sns/testyou/tk50.jpg\")\n",
    "img = cv2.resize(img, dsize=(224,224))\n",
    "img = img.astype('float32')\n",
    "img /= 255.0\n",
    "img = img[None, ...]\n",
    "result = model.predict(img)"
   ]
  },
  {
   "cell_type": "code",
   "execution_count": null,
   "metadata": {},
   "outputs": [],
   "source": [
    "np.set_printoptions(precision=3, suppress=True)\n",
    "result * 100"
   ]
  },
  {
   "cell_type": "code",
   "execution_count": null,
   "metadata": {},
   "outputs": [],
   "source": [
    "a = result.argmax()\n",
    "answer[str(a)]"
   ]
  },
  {
   "cell_type": "code",
   "execution_count": 65,
   "metadata": {},
   "outputs": [
    {
     "name": "stdout",
     "output_type": "stream",
     "text": [
      "406\n"
     ]
    }
   ],
   "source": [
    "root = glob(\"./sns/train/*/*.*\")\n",
    "print(len(root))"
   ]
  },
  {
   "cell_type": "markdown",
   "metadata": {},
   "source": []
  },
  {
   "cell_type": "code",
   "execution_count": null,
   "metadata": {},
   "outputs": [],
   "source": [
    "for i, name in enumerate(glob(\"./sns/train/facebook/*.*\")):\n",
    "    os.rename(name, f\"{name + str(i)}+ .jpg\")\n"
   ]
  }
 ],
 "metadata": {
  "kernelspec": {
   "display_name": "Python 3.8.7 64-bit",
   "language": "python",
   "name": "python3"
  },
  "language_info": {
   "codemirror_mode": {
    "name": "ipython",
    "version": 3
   },
   "file_extension": ".py",
   "mimetype": "text/x-python",
   "name": "python",
   "nbconvert_exporter": "python",
   "pygments_lexer": "ipython3",
   "version": "3.8.7"
  },
  "orig_nbformat": 4,
  "vscode": {
   "interpreter": {
    "hash": "9f0c07f233c9fa4c5b7b6dc7c1d99c0c617bce55c9a22566408c30b7d3d16372"
   }
  }
 },
 "nbformat": 4,
 "nbformat_minor": 2
}
